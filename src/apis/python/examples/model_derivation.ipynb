{
 "cells": [
  {
   "cell_type": "code",
   "execution_count": 2,
   "metadata": {
    "collapsed": true
   },
   "outputs": [],
   "source": [
    "from sympy.utilities.codegen import codegen\n",
    "from sympy.abc import x, y, z\n",
    "from sympy import symbols, Function, Derivative, dsolve, Eq"
   ]
  },
  {
   "cell_type": "code",
   "execution_count": 3,
   "outputs": [],
   "source": [
    "t,h,q = symbols('t,h,q')\n",
    "T_dev_0,T_amb_0 = symbols('T_dev_0,T_amb_0')\n",
    "T_dev = Function('T_dev')\n",
    "T_amb = Function('T_amb')"
   ],
   "metadata": {
    "collapsed": false
   }
  },
  {
   "cell_type": "code",
   "execution_count": 4,
   "outputs": [],
   "source": [
    "#  dTdev = h * (Tamb - Tdev) + q;\n",
    "eqn1 = Eq(Derivative(T_dev(t),t), h * (T_amb(t) - T_dev(t)) + q)\n",
    "\n",
    "DeSys = [\n",
    "    eqn1\n",
    "]\n",
    "ics={T_dev(0): T_dev_0, T_amb(0): T_amb_0}"
   ],
   "metadata": {
    "collapsed": false
   }
  },
  {
   "cell_type": "code",
   "execution_count": 11,
   "outputs": [],
   "source": [
    "soln = dsolve(eqn1,T_dev(t))"
   ],
   "metadata": {
    "collapsed": false
   }
  },
  {
   "cell_type": "code",
   "execution_count": 12,
   "outputs": [
    {
     "data": {
      "text/plain": "Eq(-h*Integral(T_amb(t)*exp(h*t), t) + h*Integral(T_dev(t)*exp(h*t), t) - Piecewise((q*exp(h*t)/h, Ne(h, 0)), (q*t, True)), C1)",
      "text/latex": "$\\displaystyle - h \\int T_{amb}{\\left(t \\right)} e^{h t}\\, dt + h \\int T_{dev}{\\left(t \\right)} e^{h t}\\, dt - \\begin{cases} \\frac{q e^{h t}}{h} & \\text{for}\\: h \\neq 0 \\\\q t & \\text{otherwise} \\end{cases} = C_{1}$"
     },
     "execution_count": 12,
     "metadata": {},
     "output_type": "execute_result"
    }
   ],
   "source": [
    "soln"
   ],
   "metadata": {
    "collapsed": false
   }
  },
  {
   "cell_type": "code",
   "execution_count": null,
   "outputs": [],
   "source": [],
   "metadata": {
    "collapsed": false
   }
  }
 ],
 "metadata": {
  "kernelspec": {
   "display_name": "Python 3",
   "language": "python",
   "name": "python3"
  },
  "language_info": {
   "codemirror_mode": {
    "name": "ipython",
    "version": 2
   },
   "file_extension": ".py",
   "mimetype": "text/x-python",
   "name": "python",
   "nbconvert_exporter": "python",
   "pygments_lexer": "ipython2",
   "version": "2.7.6"
  }
 },
 "nbformat": 4,
 "nbformat_minor": 0
}
